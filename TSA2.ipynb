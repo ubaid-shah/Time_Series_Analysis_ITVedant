{
 "cells": [
  {
   "cell_type": "code",
   "execution_count": 1,
   "id": "c6f772c9",
   "metadata": {},
   "outputs": [],
   "source": [
    "import pandas as pd\n",
    "url='https://raw.githubusercontent.com/ubaid-shah/datasets/main/airline_passengers.csv'\n",
    "df=pd.read_csv(url,index_col='Month',parse_dates=True)\n",
    "df.index.freq='MS'\n",
    "df.dropna(inplace=True)"
   ]
  },
  {
   "cell_type": "code",
   "execution_count": 2,
   "id": "19955c61",
   "metadata": {
    "collapsed": true
   },
   "outputs": [
    {
     "data": {
      "text/html": [
       "<div>\n",
       "<style scoped>\n",
       "    .dataframe tbody tr th:only-of-type {\n",
       "        vertical-align: middle;\n",
       "    }\n",
       "\n",
       "    .dataframe tbody tr th {\n",
       "        vertical-align: top;\n",
       "    }\n",
       "\n",
       "    .dataframe thead th {\n",
       "        text-align: right;\n",
       "    }\n",
       "</style>\n",
       "<table border=\"1\" class=\"dataframe\">\n",
       "  <thead>\n",
       "    <tr style=\"text-align: right;\">\n",
       "      <th></th>\n",
       "      <th>Thousands of Passengers</th>\n",
       "    </tr>\n",
       "    <tr>\n",
       "      <th>Month</th>\n",
       "      <th></th>\n",
       "    </tr>\n",
       "  </thead>\n",
       "  <tbody>\n",
       "    <tr>\n",
       "      <th>1949-01-01</th>\n",
       "      <td>112</td>\n",
       "    </tr>\n",
       "    <tr>\n",
       "      <th>1949-02-01</th>\n",
       "      <td>118</td>\n",
       "    </tr>\n",
       "    <tr>\n",
       "      <th>1949-03-01</th>\n",
       "      <td>132</td>\n",
       "    </tr>\n",
       "    <tr>\n",
       "      <th>1949-04-01</th>\n",
       "      <td>129</td>\n",
       "    </tr>\n",
       "    <tr>\n",
       "      <th>1949-05-01</th>\n",
       "      <td>121</td>\n",
       "    </tr>\n",
       "  </tbody>\n",
       "</table>\n",
       "</div>"
      ],
      "text/plain": [
       "            Thousands of Passengers\n",
       "Month                              \n",
       "1949-01-01                      112\n",
       "1949-02-01                      118\n",
       "1949-03-01                      132\n",
       "1949-04-01                      129\n",
       "1949-05-01                      121"
      ]
     },
     "execution_count": 2,
     "metadata": {},
     "output_type": "execute_result"
    }
   ],
   "source": [
    "df.head()"
   ]
  },
  {
   "cell_type": "code",
   "execution_count": 3,
   "id": "7d9a1da4",
   "metadata": {},
   "outputs": [],
   "source": [
    "from statsmodels.tsa.stattools import adfuller"
   ]
  },
  {
   "cell_type": "code",
   "execution_count": 4,
   "id": "c6773fb8",
   "metadata": {
    "collapsed": true
   },
   "outputs": [
    {
     "name": "stdout",
     "output_type": "stream",
     "text": [
      "Dicky-Fuller Result\n"
     ]
    },
    {
     "data": {
      "text/plain": [
       "(0.8153688792060543,\n",
       " 0.9918802434376411,\n",
       " 13,\n",
       " 130,\n",
       " {'1%': -3.4816817173418295,\n",
       "  '5%': -2.8840418343195267,\n",
       "  '10%': -2.578770059171598},\n",
       " 996.692930839019)"
      ]
     },
     "execution_count": 4,
     "metadata": {},
     "output_type": "execute_result"
    }
   ],
   "source": [
    "print('Dicky-Fuller Result')\n",
    "result=adfuller(df['Thousands of Passengers'])\n",
    "result"
   ]
  },
  {
   "cell_type": "code",
   "execution_count": 5,
   "id": "aba5ec46",
   "metadata": {
    "collapsed": true
   },
   "outputs": [
    {
     "data": {
      "text/plain": [
       "Adf test static      0.815369\n",
       "P-value              0.991880\n",
       "# lags used         13.000000\n",
       "#observations      130.000000\n",
       "dtype: float64"
      ]
     },
     "execution_count": 5,
     "metadata": {},
     "output_type": "execute_result"
    }
   ],
   "source": [
    "dfout=pd.Series(result[0:4],index=['Adf test static','P-value','# lags used','#observations'])\n",
    "dfout"
   ]
  },
  {
   "cell_type": "code",
   "execution_count": 6,
   "id": "db354a7d",
   "metadata": {},
   "outputs": [],
   "source": [
    "df['d1']=df[\"Thousands of Passengers\"].diff()\n"
   ]
  },
  {
   "cell_type": "code",
   "execution_count": 7,
   "id": "ef4ddcc7",
   "metadata": {},
   "outputs": [
    {
     "data": {
      "text/html": [
       "<div>\n",
       "<style scoped>\n",
       "    .dataframe tbody tr th:only-of-type {\n",
       "        vertical-align: middle;\n",
       "    }\n",
       "\n",
       "    .dataframe tbody tr th {\n",
       "        vertical-align: top;\n",
       "    }\n",
       "\n",
       "    .dataframe thead th {\n",
       "        text-align: right;\n",
       "    }\n",
       "</style>\n",
       "<table border=\"1\" class=\"dataframe\">\n",
       "  <thead>\n",
       "    <tr style=\"text-align: right;\">\n",
       "      <th></th>\n",
       "      <th>Thousands of Passengers</th>\n",
       "      <th>d1</th>\n",
       "    </tr>\n",
       "    <tr>\n",
       "      <th>Month</th>\n",
       "      <th></th>\n",
       "      <th></th>\n",
       "    </tr>\n",
       "  </thead>\n",
       "  <tbody>\n",
       "    <tr>\n",
       "      <th>1949-01-01</th>\n",
       "      <td>112</td>\n",
       "      <td>NaN</td>\n",
       "    </tr>\n",
       "    <tr>\n",
       "      <th>1949-02-01</th>\n",
       "      <td>118</td>\n",
       "      <td>6.0</td>\n",
       "    </tr>\n",
       "    <tr>\n",
       "      <th>1949-03-01</th>\n",
       "      <td>132</td>\n",
       "      <td>14.0</td>\n",
       "    </tr>\n",
       "    <tr>\n",
       "      <th>1949-04-01</th>\n",
       "      <td>129</td>\n",
       "      <td>-3.0</td>\n",
       "    </tr>\n",
       "    <tr>\n",
       "      <th>1949-05-01</th>\n",
       "      <td>121</td>\n",
       "      <td>-8.0</td>\n",
       "    </tr>\n",
       "  </tbody>\n",
       "</table>\n",
       "</div>"
      ],
      "text/plain": [
       "            Thousands of Passengers    d1\n",
       "Month                                    \n",
       "1949-01-01                      112   NaN\n",
       "1949-02-01                      118   6.0\n",
       "1949-03-01                      132  14.0\n",
       "1949-04-01                      129  -3.0\n",
       "1949-05-01                      121  -8.0"
      ]
     },
     "execution_count": 7,
     "metadata": {},
     "output_type": "execute_result"
    }
   ],
   "source": [
    "df.head()"
   ]
  },
  {
   "cell_type": "code",
   "execution_count": 8,
   "id": "2941f290",
   "metadata": {},
   "outputs": [],
   "source": [
    "df.dropna(inplace=True)"
   ]
  },
  {
   "cell_type": "code",
   "execution_count": 9,
   "id": "8fcef2ff",
   "metadata": {},
   "outputs": [
    {
     "name": "stdout",
     "output_type": "stream",
     "text": [
      "Dicky-Fuller Result with differencing\n"
     ]
    },
    {
     "data": {
      "text/plain": [
       "(-2.8292668241700034,\n",
       " 0.054213290283824954,\n",
       " 12,\n",
       " 130,\n",
       " {'1%': -3.4816817173418295,\n",
       "  '5%': -2.8840418343195267,\n",
       "  '10%': -2.578770059171598},\n",
       " 988.5069317854084)"
      ]
     },
     "execution_count": 9,
     "metadata": {},
     "output_type": "execute_result"
    }
   ],
   "source": [
    "print('Dicky-Fuller Result with differencing')\n",
    "result1=adfuller(df['d1'])\n",
    "result1"
   ]
  },
  {
   "cell_type": "code",
   "execution_count": 10,
   "id": "5d4fc598",
   "metadata": {},
   "outputs": [
    {
     "data": {
      "text/plain": [
       "Adf test static     -2.829267\n",
       "P-value              0.054213\n",
       "# lags used         12.000000\n",
       "#observations      130.000000\n",
       "dtype: float64"
      ]
     },
     "execution_count": 10,
     "metadata": {},
     "output_type": "execute_result"
    }
   ],
   "source": [
    "dfout=pd.Series(result1[0:4],index=['Adf test static','P-value','# lags used','#observations'])\n",
    "dfout"
   ]
  },
  {
   "cell_type": "code",
   "execution_count": 11,
   "id": "86c28440",
   "metadata": {},
   "outputs": [],
   "source": [
    "df['d2']=df['d1'].diff()"
   ]
  },
  {
   "cell_type": "code",
   "execution_count": 12,
   "id": "905bde51",
   "metadata": {},
   "outputs": [
    {
     "name": "stdout",
     "output_type": "stream",
     "text": [
      "Dicky-Fuller Result with differencing of order 2\n"
     ]
    },
    {
     "data": {
      "text/plain": [
       "(-16.384231542468488,\n",
       " 2.7328918500143186e-29,\n",
       " 11,\n",
       " 130,\n",
       " {'1%': -3.4816817173418295,\n",
       "  '5%': -2.8840418343195267,\n",
       "  '10%': -2.578770059171598},\n",
       " 988.6020417275604)"
      ]
     },
     "execution_count": 12,
     "metadata": {},
     "output_type": "execute_result"
    }
   ],
   "source": [
    "print('Dicky-Fuller Result with differencing of order 2')\n",
    "result2=adfuller(df['d2'].dropna())\n",
    "result2"
   ]
  },
  {
   "cell_type": "code",
   "execution_count": 13,
   "id": "ab1a3735",
   "metadata": {},
   "outputs": [
    {
     "data": {
      "text/plain": [
       "Adf test static   -1.638423e+01\n",
       "P-value            2.732892e-29\n",
       "# lags used        1.100000e+01\n",
       "#observations      1.300000e+02\n",
       "dtype: float64"
      ]
     },
     "execution_count": 13,
     "metadata": {},
     "output_type": "execute_result"
    }
   ],
   "source": [
    "dfout2=pd.Series(result2[0:4],index=['Adf test static','P-value','# lags used','#observations'])\n",
    "dfout2"
   ]
  },
  {
   "cell_type": "code",
   "execution_count": 14,
   "id": "edbe1405",
   "metadata": {},
   "outputs": [],
   "source": [
    "from statsmodels.tsa.stattools import adfuller\n",
    "def adf_test(series,title=''):\n",
    "    print(f'Augmented Dickey-Fuller test: {title}')\n",
    "    print()\n",
    "    print('H0: Data has a  unit root and is non-stationary')\n",
    "    print('Ha: Data has no unit root and is stationary')\n",
    "    print('Reference P value:0.05')\n",
    "    print()\n",
    "    result=adfuller(series.dropna())\n",
    "    index=['Adf test static','P-value','# lags used','#observations']\n",
    "    \n",
    "    out=pd.Series(result[0:4],index=index)\n",
    "    \n",
    "    if result[1]<=0.05:\n",
    "        print('Strong evidence against the null hypothesis')\n",
    "        print('Reject the null hypothesis')\n",
    "        print('Data has no unit root and is stationary')\n",
    "        \n",
    "    else:\n",
    "        print('Weak evidence against the null hypothesis')\n",
    "        print('Accept the null hypothesis')\n",
    "        print('Data has unit root and is non-stationary')"
   ]
  },
  {
   "cell_type": "code",
   "execution_count": 17,
   "id": "1f211718",
   "metadata": {},
   "outputs": [
    {
     "name": "stdout",
     "output_type": "stream",
     "text": [
      "Augmented Dickey-Fuller test: Second Differencing\n",
      "\n",
      "H0: Data has a  unit root and is non-stationary\n",
      "Ha: Data has no unit root and is stationary\n",
      "Reference P value:0.05\n",
      "\n",
      "Strong evidence against the null hypothesis\n",
      "Reject the null hypothesis\n",
      "Data has no unit root and is stationary\n"
     ]
    }
   ],
   "source": [
    "adf_test(df['d2'],'Second Differencing')"
   ]
  },
  {
   "cell_type": "code",
   "execution_count": null,
   "id": "9e9c07ef",
   "metadata": {},
   "outputs": [],
   "source": []
  }
 ],
 "metadata": {
  "kernelspec": {
   "display_name": "Python 3 (ipykernel)",
   "language": "python",
   "name": "python3"
  },
  "language_info": {
   "codemirror_mode": {
    "name": "ipython",
    "version": 3
   },
   "file_extension": ".py",
   "mimetype": "text/x-python",
   "name": "python",
   "nbconvert_exporter": "python",
   "pygments_lexer": "ipython3",
   "version": "3.9.12"
  }
 },
 "nbformat": 4,
 "nbformat_minor": 5
}
