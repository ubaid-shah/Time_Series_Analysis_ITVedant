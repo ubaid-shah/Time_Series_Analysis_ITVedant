{
 "cells": [
  {
   "cell_type": "code",
   "execution_count": 2,
   "id": "520cd932",
   "metadata": {},
   "outputs": [
    {
     "name": "stdout",
     "output_type": "stream",
     "text": [
      "Defaulting to user installation because normal site-packages is not writeable\n",
      "Collecting yfinance\n",
      "  Downloading yfinance-0.2.18-py2.py3-none-any.whl (60 kB)\n",
      "     ---------------------------------------- 60.3/60.3 kB ? eta 0:00:00\n",
      "Requirement already satisfied: pandas>=1.3.0 in c:\\users\\ubaid shah\\appdata\\roaming\\python\\python311\\site-packages (from yfinance) (2.0.0)\n",
      "Requirement already satisfied: numpy>=1.16.5 in c:\\users\\ubaid shah\\appdata\\roaming\\python\\python311\\site-packages (from yfinance) (1.24.2)\n",
      "Requirement already satisfied: requests>=2.26 in c:\\users\\ubaid shah\\appdata\\roaming\\python\\python311\\site-packages (from yfinance) (2.26.0)\n",
      "Collecting multitasking>=0.0.7\n",
      "  Downloading multitasking-0.0.11-py3-none-any.whl (8.5 kB)\n",
      "Collecting lxml>=4.9.1\n",
      "  Downloading lxml-4.9.2-cp311-cp311-win_amd64.whl (3.8 MB)\n",
      "     ---------------------------------------- 3.8/3.8 MB 30.0 MB/s eta 0:00:00\n",
      "Collecting appdirs>=1.4.4\n",
      "  Downloading appdirs-1.4.4-py2.py3-none-any.whl (9.6 kB)\n",
      "Requirement already satisfied: pytz>=2022.5 in c:\\users\\ubaid shah\\appdata\\roaming\\python\\python311\\site-packages (from yfinance) (2023.3)\n",
      "Collecting frozendict>=2.3.4\n",
      "  Downloading frozendict-2.3.8-py311-none-any.whl (14 kB)\n",
      "Collecting cryptography>=3.3.2\n",
      "  Downloading cryptography-40.0.2-cp36-abi3-win_amd64.whl (2.6 MB)\n",
      "     ---------------------------------------- 2.6/2.6 MB 27.7 MB/s eta 0:00:00\n",
      "Collecting beautifulsoup4>=4.11.1\n",
      "  Downloading beautifulsoup4-4.12.2-py3-none-any.whl (142 kB)\n",
      "     -------------------------------------- 143.0/143.0 kB 8.8 MB/s eta 0:00:00\n",
      "Collecting html5lib>=1.1\n",
      "  Downloading html5lib-1.1-py2.py3-none-any.whl (112 kB)\n",
      "     ---------------------------------------- 112.2/112.2 kB ? eta 0:00:00\n",
      "Collecting soupsieve>1.2\n",
      "  Downloading soupsieve-2.4.1-py3-none-any.whl (36 kB)\n",
      "Collecting cffi>=1.12\n",
      "  Downloading cffi-1.15.1-cp311-cp311-win_amd64.whl (179 kB)\n",
      "     ---------------------------------------- 179.0/179.0 kB ? eta 0:00:00\n",
      "Requirement already satisfied: six>=1.9 in c:\\users\\ubaid shah\\appdata\\roaming\\python\\python311\\site-packages (from html5lib>=1.1->yfinance) (1.14.0)\n",
      "Collecting webencodings\n",
      "  Downloading webencodings-0.5.1-py2.py3-none-any.whl (11 kB)\n",
      "Requirement already satisfied: python-dateutil>=2.8.2 in c:\\users\\ubaid shah\\appdata\\roaming\\python\\python311\\site-packages (from pandas>=1.3.0->yfinance) (2.8.2)\n",
      "Requirement already satisfied: tzdata>=2022.1 in c:\\users\\ubaid shah\\appdata\\roaming\\python\\python311\\site-packages (from pandas>=1.3.0->yfinance) (2023.3)\n",
      "Requirement already satisfied: urllib3<1.27,>=1.21.1 in c:\\users\\ubaid shah\\appdata\\roaming\\python\\python311\\site-packages (from requests>=2.26->yfinance) (1.26.15)\n",
      "Requirement already satisfied: certifi>=2017.4.17 in c:\\users\\ubaid shah\\appdata\\roaming\\python\\python311\\site-packages (from requests>=2.26->yfinance) (2022.12.7)\n",
      "Requirement already satisfied: charset-normalizer~=2.0.0 in c:\\users\\ubaid shah\\appdata\\roaming\\python\\python311\\site-packages (from requests>=2.26->yfinance) (2.0.12)\n",
      "Requirement already satisfied: idna<4,>=2.5 in c:\\users\\ubaid shah\\appdata\\roaming\\python\\python311\\site-packages (from requests>=2.26->yfinance) (3.4)\n",
      "Collecting pycparser\n",
      "  Downloading pycparser-2.21-py2.py3-none-any.whl (118 kB)\n",
      "     ---------------------------------------- 118.7/118.7 kB ? eta 0:00:00\n",
      "Installing collected packages: webencodings, multitasking, appdirs, soupsieve, pycparser, lxml, html5lib, frozendict, cffi, beautifulsoup4, cryptography, yfinance\n",
      "Successfully installed appdirs-1.4.4 beautifulsoup4-4.12.2 cffi-1.15.1 cryptography-40.0.2 frozendict-2.3.8 html5lib-1.1 lxml-4.9.2 multitasking-0.0.11 pycparser-2.21 soupsieve-2.4.1 webencodings-0.5.1 yfinance-0.2.18\n"
     ]
    },
    {
     "name": "stderr",
     "output_type": "stream",
     "text": [
      "\n",
      "[notice] A new release of pip is available: 23.0.1 -> 23.1.2\n",
      "[notice] To update, run: python.exe -m pip install --upgrade pip\n"
     ]
    }
   ],
   "source": [
    "! pip install yfinance --upgrade --no-cache-dir"
   ]
  },
  {
   "cell_type": "code",
   "execution_count": 1,
   "id": "fa56c677",
   "metadata": {},
   "outputs": [
    {
     "ename": "ModuleNotFoundError",
     "evalue": "No module named 'yfinance'",
     "output_type": "error",
     "traceback": [
      "\u001b[1;31m---------------------------------------------------------------------------\u001b[0m",
      "\u001b[1;31mModuleNotFoundError\u001b[0m                       Traceback (most recent call last)",
      "\u001b[1;32m~\\AppData\\Local\\Temp\\ipykernel_3548\\1469771312.py\u001b[0m in \u001b[0;36m<module>\u001b[1;34m\u001b[0m\n\u001b[1;32m----> 1\u001b[1;33m \u001b[1;32mimport\u001b[0m \u001b[0myfinance\u001b[0m \u001b[1;32mas\u001b[0m \u001b[0myf\u001b[0m\u001b[1;33m\u001b[0m\u001b[1;33m\u001b[0m\u001b[0m\n\u001b[0m\u001b[0;32m      2\u001b[0m \u001b[1;32mimport\u001b[0m \u001b[0mnumpy\u001b[0m \u001b[1;32mas\u001b[0m \u001b[0mnp\u001b[0m\u001b[1;33m\u001b[0m\u001b[1;33m\u001b[0m\u001b[0m\n\u001b[0;32m      3\u001b[0m \u001b[1;32mimport\u001b[0m \u001b[0mpandas\u001b[0m \u001b[1;32mas\u001b[0m \u001b[0mpd\u001b[0m\u001b[1;33m\u001b[0m\u001b[1;33m\u001b[0m\u001b[0m\n\u001b[0;32m      4\u001b[0m \u001b[1;32mimport\u001b[0m \u001b[0mmatplotlib\u001b[0m\u001b[1;33m\u001b[0m\u001b[1;33m\u001b[0m\u001b[0m\n\u001b[0;32m      5\u001b[0m \u001b[1;33m\u001b[0m\u001b[0m\n",
      "\u001b[1;31mModuleNotFoundError\u001b[0m: No module named 'yfinance'"
     ]
    }
   ],
   "source": [
    "\n",
    "\n",
    "     \n"
   ]
  },
  {
   "cell_type": "code",
   "execution_count": 6,
   "id": "a3b86067",
   "metadata": {},
   "outputs": [
    {
     "name": "stdout",
     "output_type": "stream",
     "text": [
      "Defaulting to user installation because normal site-packages is not writeable\n",
      "Requirement already satisfied: yfinance==0.2.18 in c:\\users\\ubaid shah\\appdata\\roaming\\python\\python311\\site-packages (0.2.18)\n",
      "Requirement already satisfied: pandas>=1.3.0 in c:\\users\\ubaid shah\\appdata\\roaming\\python\\python311\\site-packages (from yfinance==0.2.18) (2.0.0)\n",
      "Requirement already satisfied: numpy>=1.16.5 in c:\\users\\ubaid shah\\appdata\\roaming\\python\\python311\\site-packages (from yfinance==0.2.18) (1.24.2)\n",
      "Requirement already satisfied: requests>=2.26 in c:\\users\\ubaid shah\\appdata\\roaming\\python\\python311\\site-packages (from yfinance==0.2.18) (2.26.0)\n",
      "Requirement already satisfied: multitasking>=0.0.7 in c:\\users\\ubaid shah\\appdata\\roaming\\python\\python311\\site-packages (from yfinance==0.2.18) (0.0.11)\n",
      "Requirement already satisfied: lxml>=4.9.1 in c:\\users\\ubaid shah\\appdata\\roaming\\python\\python311\\site-packages (from yfinance==0.2.18) (4.9.2)\n",
      "Requirement already satisfied: appdirs>=1.4.4 in c:\\users\\ubaid shah\\appdata\\roaming\\python\\python311\\site-packages (from yfinance==0.2.18) (1.4.4)\n",
      "Requirement already satisfied: pytz>=2022.5 in c:\\users\\ubaid shah\\appdata\\roaming\\python\\python311\\site-packages (from yfinance==0.2.18) (2023.3)\n",
      "Requirement already satisfied: frozendict>=2.3.4 in c:\\users\\ubaid shah\\appdata\\roaming\\python\\python311\\site-packages (from yfinance==0.2.18) (2.3.8)\n",
      "Requirement already satisfied: cryptography>=3.3.2 in c:\\users\\ubaid shah\\appdata\\roaming\\python\\python311\\site-packages (from yfinance==0.2.18) (40.0.2)\n",
      "Requirement already satisfied: beautifulsoup4>=4.11.1 in c:\\users\\ubaid shah\\appdata\\roaming\\python\\python311\\site-packages (from yfinance==0.2.18) (4.12.2)\n",
      "Requirement already satisfied: html5lib>=1.1 in c:\\users\\ubaid shah\\appdata\\roaming\\python\\python311\\site-packages (from yfinance==0.2.18) (1.1)\n",
      "Requirement already satisfied: soupsieve>1.2 in c:\\users\\ubaid shah\\appdata\\roaming\\python\\python311\\site-packages (from beautifulsoup4>=4.11.1->yfinance==0.2.18) (2.4.1)\n",
      "Requirement already satisfied: cffi>=1.12 in c:\\users\\ubaid shah\\appdata\\roaming\\python\\python311\\site-packages (from cryptography>=3.3.2->yfinance==0.2.18) (1.15.1)\n",
      "Requirement already satisfied: six>=1.9 in c:\\users\\ubaid shah\\appdata\\roaming\\python\\python311\\site-packages (from html5lib>=1.1->yfinance==0.2.18) (1.14.0)\n",
      "Requirement already satisfied: webencodings in c:\\users\\ubaid shah\\appdata\\roaming\\python\\python311\\site-packages (from html5lib>=1.1->yfinance==0.2.18) (0.5.1)\n",
      "Requirement already satisfied: python-dateutil>=2.8.2 in c:\\users\\ubaid shah\\appdata\\roaming\\python\\python311\\site-packages (from pandas>=1.3.0->yfinance==0.2.18) (2.8.2)\n",
      "Requirement already satisfied: tzdata>=2022.1 in c:\\users\\ubaid shah\\appdata\\roaming\\python\\python311\\site-packages (from pandas>=1.3.0->yfinance==0.2.18) (2023.3)\n",
      "Requirement already satisfied: urllib3<1.27,>=1.21.1 in c:\\users\\ubaid shah\\appdata\\roaming\\python\\python311\\site-packages (from requests>=2.26->yfinance==0.2.18) (1.26.15)\n",
      "Requirement already satisfied: certifi>=2017.4.17 in c:\\users\\ubaid shah\\appdata\\roaming\\python\\python311\\site-packages (from requests>=2.26->yfinance==0.2.18) (2022.12.7)\n",
      "Requirement already satisfied: charset-normalizer~=2.0.0 in c:\\users\\ubaid shah\\appdata\\roaming\\python\\python311\\site-packages (from requests>=2.26->yfinance==0.2.18) (2.0.12)\n",
      "Requirement already satisfied: idna<4,>=2.5 in c:\\users\\ubaid shah\\appdata\\roaming\\python\\python311\\site-packages (from requests>=2.26->yfinance==0.2.18) (3.4)\n",
      "Requirement already satisfied: pycparser in c:\\users\\ubaid shah\\appdata\\roaming\\python\\python311\\site-packages (from cffi>=1.12->cryptography>=3.3.2->yfinance==0.2.18) (2.21)\n"
     ]
    },
    {
     "name": "stderr",
     "output_type": "stream",
     "text": [
      "\n",
      "[notice] A new release of pip is available: 23.0.1 -> 23.1.2\n",
      "[notice] To update, run: python.exe -m pip install --upgrade pip\n"
     ]
    }
   ],
   "source": [
    "! pip install yfinance==0.2.18 --upgrade --no-cache-dir\n"
   ]
  },
  {
   "cell_type": "code",
   "execution_count": 14,
   "id": "7358ef9e",
   "metadata": {},
   "outputs": [],
   "source": [
    "import yfinance as yf\n",
    "import cufflinks as cf\n",
    "import pandas as pd\n",
    "import numpy as np\n",
    "import matplotlib.pyplot as plt\n",
    "import datetime as dt"
   ]
  },
  {
   "cell_type": "code",
   "execution_count": 9,
   "id": "51b344bf",
   "metadata": {},
   "outputs": [],
   "source": [
    "\n",
    "\n",
    "from pandas_datareader import data as pdr\n",
    "import yfinance as yf\n",
    "from tkinter import Tk\n",
    "from tkinter.filedialog import askopenfilename\n",
    "import os\n",
    "from pandas import ExcelWriter"
   ]
  },
  {
   "cell_type": "code",
   "execution_count": 11,
   "id": "582b34b0",
   "metadata": {},
   "outputs": [
    {
     "data": {
      "text/html": [
       "<div>\n",
       "<style scoped>\n",
       "    .dataframe tbody tr th:only-of-type {\n",
       "        vertical-align: middle;\n",
       "    }\n",
       "\n",
       "    .dataframe tbody tr th {\n",
       "        vertical-align: top;\n",
       "    }\n",
       "\n",
       "    .dataframe thead th {\n",
       "        text-align: right;\n",
       "    }\n",
       "</style>\n",
       "<table border=\"1\" class=\"dataframe\">\n",
       "  <thead>\n",
       "    <tr style=\"text-align: right;\">\n",
       "      <th></th>\n",
       "      <th>Company Name</th>\n",
       "      <th>Industry</th>\n",
       "      <th>Symbol</th>\n",
       "      <th>Series</th>\n",
       "      <th>Yfinanance</th>\n",
       "    </tr>\n",
       "  </thead>\n",
       "  <tbody>\n",
       "    <tr>\n",
       "      <th>0</th>\n",
       "      <td>3M India Ltd.</td>\n",
       "      <td>Diversified</td>\n",
       "      <td>3MINDIA</td>\n",
       "      <td>EQ</td>\n",
       "      <td>3MINDIA.NS</td>\n",
       "    </tr>\n",
       "    <tr>\n",
       "      <th>1</th>\n",
       "      <td>ACC Ltd.</td>\n",
       "      <td>Construction Materials</td>\n",
       "      <td>ACC</td>\n",
       "      <td>EQ</td>\n",
       "      <td>ACC.NS</td>\n",
       "    </tr>\n",
       "    <tr>\n",
       "      <th>2</th>\n",
       "      <td>Aarti Drugs Ltd.</td>\n",
       "      <td>Healthcare</td>\n",
       "      <td>AARTIDRUGS</td>\n",
       "      <td>EQ</td>\n",
       "      <td>AARTIDRUGS.NS</td>\n",
       "    </tr>\n",
       "    <tr>\n",
       "      <th>3</th>\n",
       "      <td>Aarti Industries Ltd.</td>\n",
       "      <td>Chemicals</td>\n",
       "      <td>AARTIIND</td>\n",
       "      <td>EQ</td>\n",
       "      <td>AARTIIND.NS</td>\n",
       "    </tr>\n",
       "    <tr>\n",
       "      <th>4</th>\n",
       "      <td>Abbott India Ltd.</td>\n",
       "      <td>Healthcare</td>\n",
       "      <td>ABBOTINDIA</td>\n",
       "      <td>EQ</td>\n",
       "      <td>ABBOTINDIA.NS</td>\n",
       "    </tr>\n",
       "  </tbody>\n",
       "</table>\n",
       "</div>"
      ],
      "text/plain": [
       "            Company Name                Industry      Symbol Series   \n",
       "0          3M India Ltd.             Diversified     3MINDIA     EQ  \\\n",
       "1               ACC Ltd.  Construction Materials         ACC     EQ   \n",
       "2       Aarti Drugs Ltd.              Healthcare  AARTIDRUGS     EQ   \n",
       "3  Aarti Industries Ltd.               Chemicals    AARTIIND     EQ   \n",
       "4      Abbott India Ltd.              Healthcare  ABBOTINDIA     EQ   \n",
       "\n",
       "      Yfinanance  \n",
       "0     3MINDIA.NS  \n",
       "1         ACC.NS  \n",
       "2  AARTIDRUGS.NS  \n",
       "3    AARTIIND.NS  \n",
       "4  ABBOTINDIA.NS  "
      ]
     },
     "execution_count": 11,
     "metadata": {},
     "output_type": "execute_result"
    }
   ],
   "source": [
    "df=pd.read_csv('ind_nifty500list.csv')\n",
    "df.head()"
   ]
  },
  {
   "cell_type": "code",
   "execution_count": 12,
   "id": "b2d0c6bc",
   "metadata": {},
   "outputs": [],
   "source": [
    "exportList= pd.DataFrame(columns=['Stock', \"RS_Rating\", \"50 Day MA\", \"150 Day Ma\", \"200 Day MA\", \"52 Week Low\", \"52 week High\"])"
   ]
  },
  {
   "cell_type": "code",
   "execution_count": 15,
   "id": "a8a350f3",
   "metadata": {},
   "outputs": [],
   "source": [
    "start =dt.datetime(2019,1,1)\n",
    "now = dt.datetime.now()"
   ]
  },
  {
   "cell_type": "code",
   "execution_count": 17,
   "id": "818229bf",
   "metadata": {},
   "outputs": [
    {
     "data": {
      "text/plain": [
       "datetime.datetime(2023, 6, 2, 12, 50, 52, 426871)"
      ]
     },
     "execution_count": 17,
     "metadata": {},
     "output_type": "execute_result"
    }
   ],
   "source": [
    "now"
   ]
  },
  {
   "cell_type": "code",
   "execution_count": 19,
   "id": "4b15cbed",
   "metadata": {},
   "outputs": [
    {
     "name": "stdout",
     "output_type": "stream",
     "text": [
      "[*********************100%***********************]  1 of 1 completed\n"
     ]
    },
    {
     "data": {
      "text/html": [
       "<div>\n",
       "<style scoped>\n",
       "    .dataframe tbody tr th:only-of-type {\n",
       "        vertical-align: middle;\n",
       "    }\n",
       "\n",
       "    .dataframe tbody tr th {\n",
       "        vertical-align: top;\n",
       "    }\n",
       "\n",
       "    .dataframe thead th {\n",
       "        text-align: right;\n",
       "    }\n",
       "</style>\n",
       "<table border=\"1\" class=\"dataframe\">\n",
       "  <thead>\n",
       "    <tr style=\"text-align: right;\">\n",
       "      <th></th>\n",
       "      <th>Open</th>\n",
       "      <th>High</th>\n",
       "      <th>Low</th>\n",
       "      <th>Close</th>\n",
       "      <th>Adj Close</th>\n",
       "      <th>Volume</th>\n",
       "    </tr>\n",
       "    <tr>\n",
       "      <th>Date</th>\n",
       "      <th></th>\n",
       "      <th></th>\n",
       "      <th></th>\n",
       "      <th></th>\n",
       "      <th></th>\n",
       "      <th></th>\n",
       "    </tr>\n",
       "  </thead>\n",
       "  <tbody>\n",
       "    <tr>\n",
       "      <th>2023-05-29</th>\n",
       "      <td>24226.500000</td>\n",
       "      <td>24341.449219</td>\n",
       "      <td>23939.949219</td>\n",
       "      <td>24147.250000</td>\n",
       "      <td>24147.250000</td>\n",
       "      <td>1365</td>\n",
       "    </tr>\n",
       "    <tr>\n",
       "      <th>2023-05-30</th>\n",
       "      <td>24160.000000</td>\n",
       "      <td>25077.949219</td>\n",
       "      <td>23805.000000</td>\n",
       "      <td>24817.449219</td>\n",
       "      <td>24817.449219</td>\n",
       "      <td>12792</td>\n",
       "    </tr>\n",
       "    <tr>\n",
       "      <th>2023-05-31</th>\n",
       "      <td>25000.000000</td>\n",
       "      <td>25319.000000</td>\n",
       "      <td>24617.900391</td>\n",
       "      <td>25153.449219</td>\n",
       "      <td>25153.449219</td>\n",
       "      <td>7874</td>\n",
       "    </tr>\n",
       "    <tr>\n",
       "      <th>2023-06-01</th>\n",
       "      <td>25153.449219</td>\n",
       "      <td>26450.000000</td>\n",
       "      <td>25014.099609</td>\n",
       "      <td>26290.699219</td>\n",
       "      <td>26290.699219</td>\n",
       "      <td>9503</td>\n",
       "    </tr>\n",
       "    <tr>\n",
       "      <th>2023-06-02</th>\n",
       "      <td>26340.000000</td>\n",
       "      <td>26501.900391</td>\n",
       "      <td>26055.449219</td>\n",
       "      <td>26229.449219</td>\n",
       "      <td>26229.449219</td>\n",
       "      <td>4043</td>\n",
       "    </tr>\n",
       "  </tbody>\n",
       "</table>\n",
       "</div>"
      ],
      "text/plain": [
       "                    Open          High           Low         Close   \n",
       "Date                                                                 \n",
       "2023-05-29  24226.500000  24341.449219  23939.949219  24147.250000  \\\n",
       "2023-05-30  24160.000000  25077.949219  23805.000000  24817.449219   \n",
       "2023-05-31  25000.000000  25319.000000  24617.900391  25153.449219   \n",
       "2023-06-01  25153.449219  26450.000000  25014.099609  26290.699219   \n",
       "2023-06-02  26340.000000  26501.900391  26055.449219  26229.449219   \n",
       "\n",
       "               Adj Close  Volume  \n",
       "Date                              \n",
       "2023-05-29  24147.250000    1365  \n",
       "2023-05-30  24817.449219   12792  \n",
       "2023-05-31  25153.449219    7874  \n",
       "2023-06-01  26290.699219    9503  \n",
       "2023-06-02  26229.449219    4043  "
      ]
     },
     "execution_count": 19,
     "metadata": {},
     "output_type": "execute_result"
    }
   ],
   "source": [
    "x=yf.download('3MINDIA.NS')\n",
    "x.tail()"
   ]
  },
  {
   "cell_type": "code",
   "execution_count": null,
   "id": "8cb893c0",
   "metadata": {},
   "outputs": [],
   "source": []
  }
 ],
 "metadata": {
  "kernelspec": {
   "display_name": "Python 3 (ipykernel)",
   "language": "python",
   "name": "python3"
  },
  "language_info": {
   "codemirror_mode": {
    "name": "ipython",
    "version": 3
   },
   "file_extension": ".py",
   "mimetype": "text/x-python",
   "name": "python",
   "nbconvert_exporter": "python",
   "pygments_lexer": "ipython3",
   "version": "3.9.0"
  }
 },
 "nbformat": 4,
 "nbformat_minor": 5
}
